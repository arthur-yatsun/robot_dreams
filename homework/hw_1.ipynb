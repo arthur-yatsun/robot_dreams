{
 "cells": [
  {
   "cell_type": "markdown",
   "metadata": {
    "id": "YW7n6nHiHjjm"
   },
   "source": [
    "# Homework 1: Numpy, Linear Algenbra, Descriptive Statistics"
   ]
  },
  {
   "cell_type": "code",
   "execution_count": 31,
   "metadata": {
    "collapsed": false,
    "jupyter": {
     "outputs_hidden": false
    }
   },
   "outputs": [],
   "source": [
    "import numpy as np\n",
    "import statistics"
   ]
  },
  {
   "cell_type": "markdown",
   "metadata": {
    "id": "clKepH-IHtJh"
   },
   "source": [
    "В зарплатному опитуванні прийняли участь 15 інженерів:"
   ]
  },
  {
   "cell_type": "code",
   "execution_count": 4,
   "metadata": {
    "id": "2RNIQnjcIZLH"
   },
   "outputs": [],
   "source": [
    "salaries = [1500, 2500, 2000, 2300, 1700, 3000, 2500, 5000, 4500, 3000, 1700, 3200, 6100, 3200, 2700]\n",
    "salaries = np.array(salaries)"
   ]
  },
  {
   "cell_type": "markdown",
   "metadata": {
    "id": "V1hDd3irIzm0"
   },
   "source": [
    "Викоритовуючи бібліотеку Numpy напишіть код, щоб дізнатись скільки отримують перші 5 опитаних інженерів"
   ]
  },
  {
   "cell_type": "code",
   "execution_count": 7,
   "metadata": {
    "id": "XhHEx8poJj-5"
   },
   "outputs": [
    {
     "data": {
      "text/plain": [
       "array([1500, 2500, 2000, 2300, 1700])"
      ]
     },
     "execution_count": 7,
     "metadata": {},
     "output_type": "execute_result"
    }
   ],
   "source": [
    "first_5 = salaries[:5]"
   ]
  },
  {
   "cell_type": "code",
   "execution_count": 6,
   "metadata": {
    "id": "H8eGWhCAJyyH"
   },
   "outputs": [],
   "source": [
    "# small check of you solution. You will receive an error, if result is wrong\n",
    "assert (first_5[1] == 2500) and (len(first_5) == 5),  f\"You calculation is wrong\""
   ]
  },
  {
   "cell_type": "markdown",
   "metadata": {
    "id": "r0WDqYqAL6Cq"
   },
   "source": [
    "А скільки отримує останній опитаний інженер?"
   ]
  },
  {
   "cell_type": "code",
   "execution_count": 8,
   "metadata": {
    "id": "6VJ_Za8cMDce"
   },
   "outputs": [],
   "source": [
    "last_one = salaries[-1]"
   ]
  },
  {
   "cell_type": "code",
   "execution_count": 9,
   "metadata": {
    "id": "u1H0JbKzMKJf"
   },
   "outputs": [],
   "source": [
    "assert last_one == 2700,  f\"You calculation is wrong\""
   ]
  },
  {
   "cell_type": "markdown",
   "metadata": {
    "id": "nTWsMmaJMR2c"
   },
   "source": [
    "Останні три опитаних інженери працюють в компанії BestCompany. Скільки сумарно отримують інженери цієї компанії?"
   ]
  },
  {
   "cell_type": "code",
   "execution_count": 93,
   "metadata": {
    "colab": {
     "base_uri": "https://localhost:8080/"
    },
    "id": "XXWjl_p1MVsz",
    "outputId": "c972ab31-85d4-487b-a92f-2a66e9024bab"
   },
   "outputs": [],
   "source": [
    "best_company_salaries = salaries[-3:]\n",
    "sum_last_3 = np.sum(best_company_salaries)"
   ]
  },
  {
   "cell_type": "code",
   "execution_count": 94,
   "metadata": {
    "id": "SIoDRD56Mb99"
   },
   "outputs": [],
   "source": [
    "assert sum_last_3 == 12000,  f\"You calculation is wrong\""
   ]
  },
  {
   "cell_type": "markdown",
   "metadata": {
    "id": "TyfSdLm1NUNO"
   },
   "source": [
    "А яка середня зарплата в BestCompany?"
   ]
  },
  {
   "cell_type": "code",
   "execution_count": 23,
   "metadata": {
    "colab": {
     "base_uri": "https://localhost:8080/"
    },
    "id": "xYrAltFyNJy5",
    "outputId": "4924df31-e189-41f5-844e-ade383ebdbf0"
   },
   "outputs": [],
   "source": [
    "best_company_mean = np.mean(best_company_salaries)"
   ]
  },
  {
   "cell_type": "code",
   "execution_count": 24,
   "metadata": {
    "id": "OkwZxbU-N5uo"
   },
   "outputs": [],
   "source": [
    "assert best_company_mean == 4000,  f\"You calculation is wrong\""
   ]
  },
  {
   "cell_type": "markdown",
   "metadata": {
    "id": "M10YBw0cODzL"
   },
   "source": [
    "В середньому інженери BestCompany мають вищу зарплатню, ніж інженери на ринку? Значення має бути True, якщо так, і False в протилежному випадку"
   ]
  },
  {
   "cell_type": "code",
   "execution_count": 25,
   "metadata": {
    "colab": {
     "base_uri": "https://localhost:8080/"
    },
    "id": "u0hC129JOCPE",
    "outputId": "9fe660fa-0e52-4234-8c76-111e1cc7f503"
   },
   "outputs": [],
   "source": [
    "market_avg = np.mean(salaries)\n",
    "is_more_than_market_avg = best_company_mean > market_avg"
   ]
  },
  {
   "cell_type": "code",
   "execution_count": 26,
   "metadata": {
    "id": "g4GbflOoOvjG"
   },
   "outputs": [],
   "source": [
    "assert is_more_than_market_avg,  f\"You calculation is wrong\""
   ]
  },
  {
   "cell_type": "markdown",
   "metadata": {
    "id": "HVGenGAkPCrS"
   },
   "source": [
    "А яка найпопулярніша зарплата серед інженерів?"
   ]
  },
  {
   "cell_type": "code",
   "execution_count": 34,
   "metadata": {
    "id": "jK_Qo8AZPJ7Y"
   },
   "outputs": [
    {
     "data": {
      "text/plain": [
       "[2500, 1700, 3000, 3200]"
      ]
     },
     "execution_count": 34,
     "metadata": {},
     "output_type": "execute_result"
    }
   ],
   "source": [
    "most_popular_salary = statistics.multimode(salaries)\n",
    "most_popular_salary\n",
    "\n",
    "# I assume the bigger one =)"
   ]
  },
  {
   "cell_type": "markdown",
   "metadata": {
    "id": "tueuoyFSPSsH"
   },
   "source": [
    "50% відсотків інженерів отримують менше або *X* доларів. Порахуйте *X* двома різними способами."
   ]
  },
  {
   "cell_type": "code",
   "execution_count": 37,
   "metadata": {
    "id": "jAXKRmQnPz8Z"
   },
   "outputs": [],
   "source": [
    "median = np.median(salaries)\n",
    "percentile_50 = np.percentile(salaries, [50])[0]\n",
    "\n",
    "assert median == percentile_50, \"Something wrong here\""
   ]
  },
  {
   "cell_type": "markdown",
   "metadata": {
    "id": "MRJLw_qlQQCO"
   },
   "source": [
    "<font color='blue'>**[Optional]**</font> Щоб відпрацювати знання лінійнох алгебри напишіть функцію на чистому Python, яка би повертала матричний добуток двох матриць. Також, зверніть увагу наскільки легше це зробити за допомогою Numpy"
   ]
  },
  {
   "cell_type": "code",
   "execution_count": 95,
   "metadata": {
    "id": "NPh-yIp1P3Ak"
   },
   "outputs": [],
   "source": [
    "def matr_product(x: list, y: list) -> list:\n",
    "\n",
    "    # transpose y\n",
    "    y = list(zip(*y))\n",
    "    rows = len(x)\n",
    "    columns = len(y)\n",
    "\n",
    "    result = []\n",
    "    for i in range(rows):\n",
    "\n",
    "        row = []\n",
    "        for j in range(columns):\n",
    "            # vector dot product\n",
    "            element = sum(\n",
    "                # x[i] - row of X\n",
    "                # y[j] - column of Y\n",
    "                map(lambda ij, ji: ij * ji , x[i], y[j])\n",
    "            )\n",
    "\n",
    "            row.append(element)\n",
    "        result.append(row)\n",
    "    return result\n",
    "\n",
    "x = [\n",
    "    [1, 2, 3],\n",
    "    [3, 4, 3],\n",
    "]\n",
    "\n",
    "y = [\n",
    "    [5, 6],\n",
    "    [7, 8],\n",
    "    [7, 8],\n",
    "]\n",
    "\n",
    "expected_result = [\n",
    "    [40, 46],\n",
    "    [64, 74],\n",
    "]\n",
    "\n",
    "result = matr_product(x, y)\n",
    "assert result == expected_result"
   ]
  },
  {
   "cell_type": "code",
   "execution_count": 96,
   "metadata": {
    "id": "BWOfneGnQYZQ"
   },
   "outputs": [],
   "source": [
    "#use this code to test your solution\n",
    "a = np.array([\n",
    "    [1, 2],\n",
    "    [3, 4]\n",
    "])\n",
    "b = np.array([\n",
    "    [11, 12], \n",
    "    [13, 14]\n",
    "])\n",
    "assert matr_product(a, b)[0][0] == 37,  f\"You calculation is wrong\""
   ]
  },
  {
   "cell_type": "code",
   "execution_count": null,
   "metadata": {
    "collapsed": false,
    "jupyter": {
     "outputs_hidden": false
    }
   },
   "outputs": [],
   "source": []
  }
 ],
 "metadata": {
  "colab": {
   "provenance": []
  },
  "kernelspec": {
   "display_name": "Python 3 (ipykernel)",
   "language": "python",
   "name": "python3"
  },
  "language_info": {
   "codemirror_mode": {
    "name": "ipython",
    "version": 3
   },
   "file_extension": ".py",
   "mimetype": "text/x-python",
   "name": "python",
   "nbconvert_exporter": "python",
   "pygments_lexer": "ipython3",
   "version": "3.11.2"
  }
 },
 "nbformat": 4,
 "nbformat_minor": 4
}
